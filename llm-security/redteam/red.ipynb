{
 "cells": [
  {
   "cell_type": "markdown",
   "id": "dffb945f",
   "metadata": {},
   "source": [
    "## Running AI Red Teaming Agent ##\n",
    "- This item is in preview so with that being said this code and syntax can likely change once this goes into \"GA\"\n",
    "- Region Support (East US 2, Sweden Central, France Central, Switzerland West)\n",
    "- Ensure you authenticate via CLI when launching this (az login --use-device-code)\n",
    "- For the evaluation upload if you run into issues ensure Credential (assigned to user is Storage Blob Data Contributor to associated storage account or check network settings if segmented can be a challenge)"
   ]
  },
  {
   "cell_type": "code",
   "execution_count": null,
   "id": "fe5d7717",
   "metadata": {},
   "outputs": [],
   "source": [
    "%pip install azure-ai-evaluation[redteam]\n",
    "%pip install python-dotenv\n",
    "%pip install azure-ai-projects"
   ]
  },
  {
   "cell_type": "code",
   "execution_count": 4,
   "id": "68bc41ac",
   "metadata": {},
   "outputs": [],
   "source": [
    "# Azure imports\n",
    "import os\n",
    "from dotenv import load_dotenv\n",
    "from azure.identity import DefaultAzureCredential\n",
    "from azure.ai.evaluation.red_team import RedTeam, RiskCategory\n",
    "\n",
    "\n",
    "# Load environment variables from .env file\n",
    "load_dotenv()\n",
    "\n",
    "# Azure AI Project Information\n",
    "azure_ai_project = {\n",
    "    \"subscription_id\": os.environ.get(\"AZURE_SUBSCRIPTION_ID\"),\n",
    "    \"resource_group_name\": os.environ.get(\"AZURE_RESOURCE_GROUP_NAME\"),\n",
    "    \"project_name\": os.environ.get(\"AZURE_PROJECT_NAME\"),\n",
    "}\n",
    "\n",
    "# Instantiate your AI Red Teaming Agent\n",
    "red_team_agent = RedTeam(\n",
    "    azure_ai_project=azure_ai_project, # required\n",
    "    credential=DefaultAzureCredential(), # required\n",
    "    risk_categories=[ # optional, defaults to all four risk categories\n",
    "        RiskCategory.Violence,\n",
    "    ], \n",
    "    num_objectives=5, # optional, defaults to 10\n",
    ")"
   ]
  },
  {
   "cell_type": "markdown",
   "id": "e50df143",
   "metadata": {},
   "source": [
    "## Creating a target ##\n",
    "A target represents in this context the LLM we are evaluating from a red-team perspective."
   ]
  },
  {
   "cell_type": "code",
   "execution_count": null,
   "id": "e39849b1",
   "metadata": {},
   "outputs": [],
   "source": [
    "# Configuration for your Azure OpenAI Model\n",
    "# ---> This will be gpt-4o or gpt-4o-mini, etc..\n",
    "from dotenv import load_dotenv\n",
    "\n",
    "# Load .env file\n",
    "load_dotenv()\n",
    "\n",
    "OPENAI_CHAT_ENDPOINT = os.environ.get(\"OPENAI_CHAT_ENDPOINT\")\n",
    "\n",
    "# configuration for Azure OpenAI\n",
    "azure_openai_config = {\n",
    "    \"azure_endpoint\": os.environ.get(\"AZURE_OPENAI_ENDPOINT\"),\n",
    "    \"api_key\": os.environ.get(\"AZURE_OPENAI_KEY\"), # not required if authenticated with az login --use-device-code\n",
    "    \"deployment_name\": os.environ.get(\"AZURE_OPENAI_DEPLOYMENT_NAME\"),\n",
    "    \"model\": \"gpt-35-turbo\",  # or \"gpt-4o\", \"gpt-4o-mini\", etc.\n",
    "}\n",
    "\n",
    "red_team_result = await red_team_agent.scan(scan_name=\"Red Team Sugar\",\n",
    "                                            target=azure_openai_config)"
   ]
  },
  {
   "cell_type": "markdown",
   "id": "21e817bf",
   "metadata": {},
   "source": [
    "# Use of Attack Strategy #\n",
    "This uses the grouping of the class 'AttackStrategy' for various stages the comments are here to explain"
   ]
  },
  {
   "cell_type": "code",
   "execution_count": null,
   "id": "22937234",
   "metadata": {},
   "outputs": [],
   "source": [
    "from azure.ai.evaluation.red_team import AttackStrategy\n",
    "\n",
    "\n",
    "# Run the red team scan with multiple attack strategies\n",
    "advanced_result = await red_team_agent.scan(\n",
    "    target=azure_openai_config,\n",
    "    scan_name=\"Advanced-Callback-Scan\",\n",
    "    attack_strategies=[\n",
    "        AttackStrategy.EASY,  # Group of easy complexity attacks\n",
    "        AttackStrategy.MODERATE,  # Group of moderate complexity attacks\n",
    "        AttackStrategy.CharacterSpace,  # Add character spaces\n",
    "        AttackStrategy.ROT13,  # Use ROT13 encoding\n",
    "        AttackStrategy.UnicodeConfusable,  # Use confusable Unicode characters\n",
    "        AttackStrategy.CharSwap,  # Swap characters in prompts \n",
    "        AttackStrategy.Morse,  # Encode prompts in Morse code - \".---..---\"\n",
    "        AttackStrategy.Leetspeak,  # Use Leetspeak think of 1337 h4x0r\n",
    "        AttackStrategy.Url,  # Use URLs in prompts \"r0b%20r0b%20r0b%20r0b the $bA3b3$\",\n",
    "        AttackStrategy.Binary,  # Encode prompts in binary\n",
    "        AttackStrategy.Compose([AttackStrategy.Base64, AttackStrategy.ROT13]),  # Use two strategies in one attack\n",
    "    ],\n",
    "    output_path=\"Scan.json\", # if you want to define the .json file output path\n",
    ")"
   ]
  }
 ],
 "metadata": {
  "kernelspec": {
   "display_name": "red",
   "language": "python",
   "name": "python3"
  },
  "language_info": {
   "codemirror_mode": {
    "name": "ipython",
    "version": 3
   },
   "file_extension": ".py",
   "mimetype": "text/x-python",
   "name": "python",
   "nbconvert_exporter": "python",
   "pygments_lexer": "ipython3",
   "version": "3.11.9"
  }
 },
 "nbformat": 4,
 "nbformat_minor": 5
}
