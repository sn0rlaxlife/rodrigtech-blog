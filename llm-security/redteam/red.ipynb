{
 "cells": [
  {
   "cell_type": "markdown",
   "id": "dffb945f",
   "metadata": {},
   "source": [
    "## Running AI Red Teaming Agent ##\n",
    "- This item is in preview so with that being said this code and syntax can likely change once this goes into \"GA\"\n",
    "- Region Support (East US 2, Sweden Central, France Central, Switzerland West)\n",
    "- Ensure you authenticate via CLI when launching this (az login --use-device-code)\n",
    "- For the evaluation upload if you run into issues ensure Credential (assigned to user is Storage Blob Data Contributor to associated storage account or check network settings if segmented can be a challenge)\n",
    "- This specific use of this tool should be used with Python 3.11, 3.12 - for some reason PyRiT isn't able to run on Python 3.13 this is highlighted in the documentation but don't want you to miss the nuance"
   ]
  },
  {
   "cell_type": "code",
   "execution_count": null,
   "id": "fe5d7717",
   "metadata": {},
   "outputs": [],
   "source": [
    "%pip install azure-ai-evaluation[redteam]\n",
    "%pip install python-dotenv\n",
    "%pip install azure-ai-projects\n",
    "%pip install azure-identity\n",
    "%pip install pyrit==0.9.0\n",
    "%pip install openai==1.99.9"
   ]
  },
  {
   "cell_type": "code",
   "execution_count": null,
   "id": "68bc41ac",
   "metadata": {},
   "outputs": [],
   "source": [
    "# Azure imports\n",
    "import os\n",
    "from dotenv import load_dotenv\n",
    "from azure.identity import DefaultAzureCredential, AzureCliCredential, get_bearer_token_provider\n",
    "from azure.ai.evaluation.red_team import RedTeam, RiskCategory\n",
    "\n",
    "credential = AzureCliCredential()\n",
    "# Load environment variables from .env file\n",
    "load_dotenv()\n",
    "\n",
    "azure_subscription_id = os.environ.get(\"AZURE_SUBSCRIPTION_ID\")\n",
    "azure_resource_group_name = os.environ.get(\"AZURE_RESOURCE_GROUP_NAME\")\n",
    "azure_ai_project_name = os.environ.get(\"AZURE_PROJECT_NAME_HUB\")\n",
    "azure_openai_api_version = os.environ.get(\"AZURE_API_VERSION\")\n",
    "\n",
    "if not azure_subscription_id:\n",
    "    raise ValueError(\"AZURE_SUBSCRIPTION_ID environment variable is not set.\")\n",
    "\n",
    "azure_ai_project = os.environ.get(\"AZURE_PROJECT_ENDPOINT\")\n",
    "\n",
    "if not azure_ai_project:\n",
    "    raise ValueError(\"AZURE_PROJECT_ENDPOINT environment variable is not set.\")\n",
    "\n",
    "# Azure AI Project Information\n",
    "azure_ai_project = {\n",
    "    \"subscription_id\": azure_subscription_id,\n",
    "    \"resource_group_name\": azure_resource_group_name,\n",
    "    \"project_name\": azure_ai_project_name,\n",
    "}\n",
    "\n",
    "\n",
    "# Instantiate your AI Red Teaming Agent\n",
    "red_team_agent = RedTeam(\n",
    "    azure_ai_project=azure_ai_project, # required\n",
    "    credential=credential, # required\n",
    "    num_objectives=5, # optional, defaults to 10\n",
    ")"
   ]
  },
  {
   "cell_type": "markdown",
   "id": "e50df143",
   "metadata": {},
   "source": [
    "## Creating a target ##\n",
    "A target represents in this context the LLM we are evaluating from a red-team perspective."
   ]
  },
  {
   "cell_type": "code",
   "execution_count": null,
   "id": "e39849b1",
   "metadata": {},
   "outputs": [],
   "source": [
    "# Configuration for your Azure OpenAI Model\n",
    "# ---> This will be gpt-4o or gpt-4o-mini, etc..\n",
    "from dotenv import load_dotenv\n",
    "import os\n",
    "\n",
    "# Load .env file\n",
    "load_dotenv()\n",
    "\n",
    "azure_endpoint = os.environ.get(\"AZURE_OPENAI_ENDPOINT\")\n",
    "azure_api_key = os.environ.get(\"AZURE_OPENAI_KEY\")\n",
    "azure_deployment_name = os.environ.get(\"AZURE_OPENAI_DEPLOYMENT_NAME\")\n",
    "azure_api_version = os.environ.get(\"AZURE_API_VERSION\")\n",
    "\n",
    "# Validation that this is set\n",
    "if not azure_endpoint or not azure_deployment_name:\n",
    "    raise ValueError(\"Please set AZURE_OPENAI_ENDPOINT and AZURE_OPENAI_DEPLOYMENT_NAME in your .env file.\")\n",
    "\n",
    "# configuration for Azure OpenAI\n",
    "azure_openai_config = {\n",
    "    \"azure_endpoint\": azure_endpoint, # not required if authenticated with az login --use-device-code\n",
    "    \"api_key\": azure_api_key, # not required if authenticated with az login --use-device-code\n",
    "    \"azure_deployment\": azure_deployment_name, # IMPORTANT if running AzureOpenAI explicitly input that azure_deployment as parameter\n",
    "}"
   ]
  },
  {
   "cell_type": "markdown",
   "id": "21e817bf",
   "metadata": {},
   "source": [
    "# Use of Attack Strategy #\n",
    "This uses the grouping of the class 'AttackStrategy' for various stages the comments are here to explain"
   ]
  },
  {
   "cell_type": "code",
   "execution_count": null,
   "id": "22937234",
   "metadata": {},
   "outputs": [],
   "source": [
    "from azure.ai.evaluation.red_team import AttackStrategy\n",
    "\n",
    "\n",
    "# Run the red team scan with multiple attack strategies\n",
    "advanced_result = await red_team_agent.scan(\n",
    "    target=azure_openai_config,\n",
    "    scan_name=\"July-Scan\",\n",
    "    attack_strategies=[\n",
    "        AttackStrategy.EASY,  # Group of easy complexity attacks\n",
    "        AttackStrategy.MODERATE,  # Group of moderate complexity attacks\n",
    "        AttackStrategy.CharacterSpace,  # Add character spaces\n",
    "        AttackStrategy.ROT13,  # Use ROT13 encoding\n",
    "        AttackStrategy.UnicodeConfusable,  # Use confusable Unicode characters\n",
    "        AttackStrategy.CharSwap,  # Swap characters in prompts \n",
    "        AttackStrategy.Morse,  # Encode prompts in Morse code - \".---..---\"\n",
    "        AttackStrategy.Leetspeak,  # Use Leetspeak think of 1337 h4x0r\n",
    "        AttackStrategy.Url,  # Use URLs in prompts \"r0b%20r0b%20r0b%20r0b the $bA3b3$\",\n",
    "        AttackStrategy.Binary,  # Encode prompts in binary\n",
    "        AttackStrategy.Compose([AttackStrategy.Base64, AttackStrategy.ROT13]),  # Use two strategies in one attack\n",
    "    ],\n",
    "    output_path=\"Scan.json\", # if you want to define the .json file output path\n",
    ")"
   ]
  },
  {
   "cell_type": "markdown",
   "id": "2b7de5d5",
   "metadata": {},
   "source": [
    "## Alternative use with custom prompts ##"
   ]
  },
  {
   "cell_type": "code",
   "execution_count": 12,
   "id": "cdbe54f9",
   "metadata": {},
   "outputs": [],
   "source": [
    "from azure.identity import AzureCliCredential, get_bearer_token_provider\n",
    "\n",
    "path_to_prompts = \"./data/prompts.json\" # Path to your custom prompts file\n",
    "\n",
    "credential = AzureCliCredential()  # Use Azure CLI credentials for authentication\n",
    "\n",
    "\n",
    "# Run the red team scan with custom prompts\n",
    "red_team_custom = RedTeam(\n",
    "    azure_ai_project=azure_ai_project, # required\n",
    "    credential=credential, # required\n",
    "    custom_attack_seed_prompts=path_to_prompts, # optional, defaults to None (no custom prompts\n",
    ")\n",
    "\n"
   ]
  },
  {
   "cell_type": "markdown",
   "id": "e5735e8b",
   "metadata": {},
   "source": [
    "## Send the attack using the .scan() ##\n",
    "- This shows after initialization of red_team_custom we send our attack."
   ]
  },
  {
   "cell_type": "code",
   "execution_count": null,
   "id": "ce1d3e3f",
   "metadata": {},
   "outputs": [],
   "source": [
    "custom_scan_result = await red_team_custom.scan(\n",
    "    target=azure_openai_config,\n",
    "    scan_name=\"Custom-Prompts-August\",\n",
    "    output_path=\"NewScan.json\",\n",
    "    skip_upload=True,  # if you want to define the .json file output path\n",
    ")"
   ]
  },
  {
   "cell_type": "code",
   "execution_count": null,
   "id": "8859dfa0",
   "metadata": {},
   "outputs": [],
   "source": [
    "from pyrit.prompt_target import OpenAIChatTarget, PromptChatTarget\n",
    "from azure.ai.evaluation.red_team import RedTeam\n",
    "from azure.identity import AzureCliCredential, DefaultAzureCredential\n",
    "\n",
    "# Default\n",
    "credential = DefaultAzureCredential()\n",
    "\n",
    "chat_target = OpenAIChatTarget(\n",
    "    model_name=azure_deployment_name,\n",
    "    endpoint=azure_endpoint,\n",
    "    api_key=azure_api_key,  # not required if authenticated with az login --use-device-code\n",
    ")\n",
    "\n",
    "\n",
    "\n",
    "red_team_scan = RedTeam(\n",
    "    azure_ai_project=azure_ai_project,\n",
    "    credential=credential,\n",
    "    application_scenario=\"chat\",\n",
    "    num_objectives=5,\n",
    ")\n",
    "\n",
    "results = await red_team_scan.scan(\n",
    "    target=chat_target,\n",
    "    scan_name=\"Red Team Scan with Custom Target\",\n",
    "    output_path=\"AugustScan.json\",\n",
    "    skip_upload=True\n",
    ")\n"
   ]
  }
 ],
 "metadata": {
  "kernelspec": {
   "display_name": ".venv",
   "language": "python",
   "name": "python3"
  },
  "language_info": {
   "codemirror_mode": {
    "name": "ipython",
    "version": 3
   },
   "file_extension": ".py",
   "mimetype": "text/x-python",
   "name": "python",
   "nbconvert_exporter": "python",
   "pygments_lexer": "ipython3",
   "version": "3.12.11"
  }
 },
 "nbformat": 4,
 "nbformat_minor": 5
}
