{
 "cells": [
  {
   "cell_type": "markdown",
   "metadata": {},
   "source": [
    "## Working with lang graph ##\n",
    "- Langgraph\n",
    "- Requirements"
   ]
  },
  {
   "cell_type": "code",
   "execution_count": null,
   "metadata": {},
   "outputs": [],
   "source": [
    "%pip install -U langgraph langchain-openai langchain-groq langchain-core\n",
    "%pip install python-dotenv\n",
    "%pip install exa-py"
   ]
  },
  {
   "cell_type": "code",
   "execution_count": 2,
   "metadata": {},
   "outputs": [
    {
     "name": "stdout",
     "output_type": "stream",
     "text": [
      "OPENAI_API_KEY found.\n",
      "Exa API Key found.\n",
      "Groq API Key found.\n",
      "Proceeding with API key.\n"
     ]
    }
   ],
   "source": [
    "import os\n",
    "from dotenv import load_dotenv\n",
    "\n",
    "\n",
    "\n",
    "def check_openai_api_key():\n",
    "    # Load environment variables\n",
    "    load_dotenv()\n",
    "\n",
    "    # Get the API key from environment variables\n",
    "    openai_api_key = os.getenv(\"OPENAI_API_KEY\")\n",
    "    exa_api_key = os.getenv(\"EXA_API_KEY\")\n",
    "    groq_api_key = os.getenv(\"GROQ_API_KEY\")\n",
    "\n",
    "    # Check if the API key is found\n",
    "    if openai_api_key or exa_api_key or groq_api_key:\n",
    "        print(\"OPENAI_API_KEY found.\")\n",
    "        print(\"Exa API Key found.\")\n",
    "        print(\"Groq API Key found.\")\n",
    "        return openai_api_key, exa_api_key, groq_api_key\n",
    "    else:\n",
    "        print(\"Error: OPENAI_API_KEY not found, Exa API Key not found, Groq key not found......\")\n",
    "        return None\n",
    "\n",
    "\n",
    "# Example usage\n",
    "api_key = check_openai_api_key()\n",
    "if api_key:\n",
    "    # Proceed with using the API key\n",
    "    print(\"Proceeding with API key.\")\n",
    "else:\n",
    "    # Handle the error\n",
    "    print(\"Please set the OPENAI_API_KEY environment variable.\")"
   ]
  },
  {
   "cell_type": "markdown",
   "metadata": {},
   "source": [
    "## Set search tool similar to how we use Exa AI ##\n",
    "- Tools are used similar as a request that is required for deeper search that the LLM might or might not know the context further."
   ]
  },
  {
   "cell_type": "code",
   "execution_count": null,
   "metadata": {},
   "outputs": [],
   "source": [
    "pip show exa-py"
   ]
  },
  {
   "cell_type": "markdown",
   "metadata": {},
   "source": [
    "## Defining the tools our agent will have access to ##\n",
    "- The use of Exa.ai (requires a API key)\n",
    "- If you want to extend the use of the searching queries you can annotate specific included websites such as arxiv/bing/duckduckgo etc.."
   ]
  },
  {
   "cell_type": "code",
   "execution_count": 5,
   "metadata": {},
   "outputs": [],
   "source": [
    "from exa_py import Exa\n",
    "##from langchain_openai import ChatOpenAI\n",
    "from langchain_groq import ChatGroq\n",
    "import json\n",
    "\n",
    "llm = ChatGroq(\n",
    "    model=\"mixtral-8x7b-32768\",\n",
    "    temperature=0,\n",
    "    max_tokens=None,\n",
    "    timeout=None,\n",
    "    max_retries=2,\n",
    ")\n",
    "\n",
    "# For use of the tool we will use the Exa API\n",
    "from typing import Literal\n",
    "from langchain_core.tools import tool\n",
    "\n",
    "exa = Exa(os.getenv(\"EXA_API_KEY\"))\n",
    "\n",
    "# Define the search function\n",
    "@tool\n",
    "def search(query: str) -> list:\n",
    "    \"\"\"\n",
    "    Perform a Exa SDK search against the given query\n",
    "\n",
    "    @param query: Search query\n",
    "    @return: List of search results\n",
    "\n",
    "    \"\"\"\n",
    "    try:\n",
    "        result = exa.search_and_contents(\n",
    "            query=query,\n",
    "            type=\"neural\",\n",
    "            include_domains=[\"arxiv.org\", \"bing.com\", \"google.com\"],\n",
    "            start_published_date=\"2023-12-31\",\n",
    "            end_published_date=\"2024-9-30\",\n",
    "            use_autoprompt=True,\n",
    "            num_results=5,\n",
    "            text=True,\n",
    "        )\n",
    "\n",
    "        output = []\n",
    "\n",
    "        # Assumes that SearchResponse object has a results attribute this is .results\n",
    "        for item in result.results:\n",
    "            output.append({\n",
    "                \"title\": item.title,\n",
    "                \"link\": item.url,\n",
    "                \"snippet\": item.text,\n",
    "                \"score\": item.score,\n",
    "                \"publish\": item.published_date,\n",
    "            })\n",
    "\n",
    "        return json.dumps(output)\n",
    "    except Exception as e:\n",
    "        print(f\"Error during search: {e}\")\n",
    "        return json.dumps({\"error\": str(e)})\n",
    "\n",
    "@tool(\"final_answer\")\n",
    "def final_answer(\n",
    "    introduction: str,\n",
    "    research_steps: str,\n",
    "    main_body: str,\n",
    "    conclusion: str,\n",
    "    sources: str\n",
    "):\n",
    "\n",
    "   \"\"\"Returns a natural language response to the user in the form of a research\n",
    "   report. There are several sections to this report, those are:\n",
    "   - `introduction`: a short paragraph introducing the user's question and the\n",
    "   topic we are researching.\n",
    "   - `research_steps`: a few bullet points explaining the steps that were taken\n",
    "   to research your report.\n",
    "   - `main_body`: this is where the bulk of high quality and concise\n",
    "   information that answers the user's question belongs. It is 3-4 paragraphs\n",
    "   long in length.\n",
    "   - `conclusion`: this is a short single paragraph conclusion providing a\n",
    "   concise but sophisticated view on what was found.\n",
    "   - `sources`: a bulletpoint list provided detailed sources for all information\n",
    "   referenced during the research process\n",
    "   \"\"\"\n",
    "   if type(research_steps) is list:\n",
    "       research_steps = \"\\n\".join([f\"- {r}\" for r in research_steps])\n",
    "   if type(sources) is list:\n",
    "       sources = \"\\n\".join([f\"- {s}\" for s in sources])\n",
    "   return \"\"\n",
    "\n",
    "tools = [search, final_answer]\n",
    "\n",
    "# Define the graph\n",
    "\n",
    "##from langgraph.prebuilt import chat_agent_executor\n",
    "\n",
    "##graph = create_agent(llm, tools=tools)"
   ]
  },
  {
   "cell_type": "markdown",
   "metadata": {},
   "source": [
    "## Defining the Agent ##"
   ]
  },
  {
   "cell_type": "code",
   "execution_count": 37,
   "metadata": {},
   "outputs": [],
   "source": [
    "from langchain_core.messages import (\n",
    "    BaseMessage,\n",
    "    HumanMessage,\n",
    "    ToolMessage,\n",
    ")\n",
    "from langchain_core.prompts import ChatPromptTemplate, MessagesPlaceholder\n",
    "from langchain_core.agents import AgentAction\n",
    "from langchain_groq import ChatGroq\n",
    "\n",
    "llm = ChatGroq(\n",
    "    model=\"mixtral-8x7b-32768\",\n",
    "    temperature=0,\n",
    "    max_tokens=None,\n",
    "    timeout=None,\n",
    "    max_retries=2,\n",
    ")\n",
    "\n",
    "from langgraph.graph import END, StateGraph, START\n",
    "\n",
    "\n",
    "system_prompt = \"\"\"You are the oracle, the great AI decision maker.\n",
    "Given the user's query you must decide what to do with it based on the\n",
    "list of tools provided to you.\n",
    "\n",
    "If you see that a tool has been used (in the scratchpad) with a particular\n",
    "query, do NOT use that same tool with the same query again. Also, do NOT use\n",
    "any tool more than twice (ie, if the tool appears in the scratchpad twice, do\n",
    "not use it again).\n",
    "\n",
    "You should aim to collect information from a diverse range of sources before\n",
    "providing the answer to the user. Once you have collected plenty of information\n",
    "to answer the user's question (stored in the scratchpad) use the final_answer\n",
    "tool.\"\"\"\n",
    "\n",
    "prompt = ChatPromptTemplate.from_messages([\n",
    "    (\"system\", system_prompt),\n",
    "    MessagesPlaceholder(variable_name=\"chat_history\"),\n",
    "    (\"user\", \"{input}\"),\n",
    "    (\"assistant\", \"scratchpad: {scratchpad}\"),\n",
    "])\n",
    "  ##  prompt = prompt.partial(tool_names=\", \".join([tool.name for tool in tools]))\n",
    "  ##  return prompt | llm.bind_tools(tools)\n",
    "def create_scratchpad(intermediate_steps: list[AgentAction]):\n",
    "    research_steps = []\n",
    "    for i, action in enumerate(intermediate_steps):\n",
    "        if action.log != \"TBD\":\n",
    "            # this was the tool execution\n",
    "            research_steps.append(\n",
    "                f\"Tool {action.tool}: input: {action.tool_input}\\n\"\n",
    "                f\"Output: {action.log}\\n\"\n",
    "            )\n",
    "    return \"\\n---\\n\".join(research_steps)\n",
    "\n",
    "# Create the prompt using the create_agent function\n",
    "researcher_decision = (\n",
    "    {\n",
    "        \"input\": lambda x: x[\"input\"],\n",
    "        \"chat_history\": lambda x: x[\"chat_history\"],\n",
    "        \"scratchpad\": lambda x: create_scratchpad(\n",
    "            intermediate_steps=x[\"intermediate_steps\"]\n",
    "        ),\n",
    "    }\n",
    "    | prompt\n",
    "    | llm.bind_tools(tools, tool_choice=\"auto\")\n",
    ")"
   ]
  },
  {
   "cell_type": "markdown",
   "metadata": {},
   "source": [
    "## Testing the agent ##\n",
    "This will send a input to the researcher_decision"
   ]
  },
  {
   "cell_type": "code",
   "execution_count": 38,
   "metadata": {},
   "outputs": [
    {
     "data": {
      "text/plain": [
       "AIMessage(content='', additional_kwargs={'tool_calls': [{'id': 'call_2yvb', 'function': {'arguments': '{\"introduction\":\"Dogs, scientifically known as Canis lupus familiaris, are domesticated mammals that are a subspecies of the wolf. They have been bred for a variety of tasks and are the most widely kept working animals.\",\"research_steps\":\"To provide an interesting fact about dogs, I have researched their history, characteristics, and uses.\",\"main_body\":\"Did you know that dogs are able to detect illnesses and diseases in humans? This is because they have an extraordinary sense of smell, which is about 10,000 times stronger than that of humans. This ability has been utilized to develop dogs that can sniff out cancer, diabetes, and other medical conditions, making them invaluable partners in the medical field.\",\"conclusion\":\"Dogs are not only man\\'s best friend but also an essential part of various industries and medical fields due to their unique abilities and characteristics.\",\"sources\":\"1. American Kennel Club. (n.d.). Dog Breeds. Retrieved from \\\\u003chttps://www.akc.org/dog-breeds/\\\\u003e\\\\n2. National Geographic. (2013, December 16). Dogs\\' Amazing Ability to Smell Disease. Retrieved from \\\\u003chttps://www.nationalgeographic.com/animals/article/dogs-smell-disease-cancer-diabetes\\\\u003e\"}', 'name': 'final_answer'}, 'type': 'function'}]}, response_metadata={'token_usage': {'completion_tokens': 504, 'prompt_tokens': 1854, 'total_tokens': 2358, 'completion_time': 0.81722609, 'prompt_time': 0.101425866, 'queue_time': 0.0014713249999999956, 'total_time': 0.918651956}, 'model_name': 'mixtral-8x7b-32768', 'system_fingerprint': 'fp_c5f20b5bb1', 'finish_reason': 'tool_calls', 'logprobs': None}, id='run-66f15afe-766e-47c2-8aed-39aa3dd15df9-0', tool_calls=[{'name': 'final_answer', 'args': {'introduction': 'Dogs, scientifically known as Canis lupus familiaris, are domesticated mammals that are a subspecies of the wolf. They have been bred for a variety of tasks and are the most widely kept working animals.', 'research_steps': 'To provide an interesting fact about dogs, I have researched their history, characteristics, and uses.', 'main_body': 'Did you know that dogs are able to detect illnesses and diseases in humans? This is because they have an extraordinary sense of smell, which is about 10,000 times stronger than that of humans. This ability has been utilized to develop dogs that can sniff out cancer, diabetes, and other medical conditions, making them invaluable partners in the medical field.', 'conclusion': \"Dogs are not only man's best friend but also an essential part of various industries and medical fields due to their unique abilities and characteristics.\", 'sources': \"1. American Kennel Club. (n.d.). Dog Breeds. Retrieved from <https://www.akc.org/dog-breeds/>\\n2. National Geographic. (2013, December 16). Dogs' Amazing Ability to Smell Disease. Retrieved from <https://www.nationalgeographic.com/animals/article/dogs-smell-disease-cancer-diabetes>\"}, 'id': 'call_2yvb', 'type': 'tool_call'}], usage_metadata={'input_tokens': 1854, 'output_tokens': 504, 'total_tokens': 2358})"
      ]
     },
     "execution_count": 38,
     "metadata": {},
     "output_type": "execute_result"
    }
   ],
   "source": [
    "inputs = {\n",
    "    \"input\": \"tell me something interesting about dogs\",\n",
    "    \"chat_history\": [],\n",
    "    \"intermediate_steps\": [],\n",
    "}\n",
    "out = researcher_decision.invoke(inputs)\n",
    "out"
   ]
  },
  {
   "cell_type": "code",
   "execution_count": 39,
   "metadata": {},
   "outputs": [
    {
     "data": {
      "text/plain": [
       "{'introduction': 'Dogs, scientifically known as Canis lupus familiaris, are domesticated mammals that are a subspecies of the wolf. They have been bred for a variety of tasks and are the most widely kept working animals.',\n",
       " 'research_steps': 'To provide an interesting fact about dogs, I have researched their history, characteristics, and uses.',\n",
       " 'main_body': 'Did you know that dogs are able to detect illnesses and diseases in humans? This is because they have an extraordinary sense of smell, which is about 10,000 times stronger than that of humans. This ability has been utilized to develop dogs that can sniff out cancer, diabetes, and other medical conditions, making them invaluable partners in the medical field.',\n",
       " 'conclusion': \"Dogs are not only man's best friend but also an essential part of various industries and medical fields due to their unique abilities and characteristics.\",\n",
       " 'sources': \"1. American Kennel Club. (n.d.). Dog Breeds. Retrieved from <https://www.akc.org/dog-breeds/>\\n2. National Geographic. (2013, December 16). Dogs' Amazing Ability to Smell Disease. Retrieved from <https://www.nationalgeographic.com/animals/article/dogs-smell-disease-cancer-diabetes>\"}"
      ]
     },
     "execution_count": 39,
     "metadata": {},
     "output_type": "execute_result"
    }
   ],
   "source": [
    "out.tool_calls[0][\"name\"]\n",
    "out.tool_calls[0][\"args\"]"
   ]
  },
  {
   "cell_type": "markdown",
   "metadata": {},
   "source": [
    "## Test the agent to confirm function ###\n"
   ]
  },
  {
   "cell_type": "markdown",
   "metadata": {},
   "source": [
    "## Defining the State ##\n",
    "- This first defines the state of the 'graph', this will list the messages, along with a key to track the most recent sender."
   ]
  },
  {
   "cell_type": "code",
   "execution_count": 6,
   "metadata": {},
   "outputs": [],
   "source": [
    "import operator\n",
    "from typing import Annotated, Sequence\n",
    "from typing_extensions import TypedDict\n",
    "from langchain_core.agents import AgentAction, AgentFinish\n",
    "from langchain_core.messages import BaseMessage\n",
    "from langchain_groq import ChatGroq\n",
    "\n",
    "# This defines the object that is passed between each node\n",
    "# in the graph. We will create different nodes for each agent and tool\n",
    "class AgentState(TypedDict):\n",
    "    input: str\n",
    "    chat_history: list[BaseMessage]\n",
    "    intermediate_steps: Annotated[list[tuple[AgentAction, str]], operator.add]"
   ]
  },
  {
   "cell_type": "markdown",
   "metadata": {},
   "source": [
    "## Defining the agent nodes for graph##\n",
    "- Now we define the nodes. First, let's define the nodes for the agents."
   ]
  },
  {
   "cell_type": "code",
   "execution_count": 40,
   "metadata": {},
   "outputs": [],
   "source": [
    "# Either agent can decide to end\n",
    "from typing import Literal\n",
    "\n",
    "def research_decision(state: list):\n",
    "    print(\"Researcher_decision\")\n",
    "    print(f\"intermediate_steps: {state['intermediate_steps']}\")\n",
    "    out = researcher_decision.invoke(state)\n",
    "    tool_name = out.tool_calls[0][\"name\"]\n",
    "    tool_args = out.tool_calls[0][\"args\"]\n",
    "    action_out = AgentAction(\n",
    "        tool=tool_name,\n",
    "        tool_input=tool_args,\n",
    "        log=\"TBD\",\n",
    "    )\n",
    "    return {\n",
    "        \"intermediate_steps\": [action_out]\n",
    "    }\n",
    "\n",
    "\n",
    "def router(state: list):\n",
    "    # Return the tool name to use\n",
    "    if isinstance(state[\"intermediate_steps\"], list):\n",
    "        return state[\"intermediate_steps\"][-1].tool\n",
    "    else:\n",
    "        # If we output bad format go to final answer\n",
    "        print(\"Router invalid format\")\n",
    "        return \"final_answer\"\n",
    "\n",
    "tool_str_to_func = {\n",
    "    \"search\": search,\n",
    "    \"final_answer\": final_answer,\n",
    "}\n",
    "\n",
    "def run_tool(state: list):\n",
    "    # User this as a helper function so we repeat less code\n",
    "    tool_name = state[\"intermediate_steps\"][-1].tool\n",
    "    tool_args = state[\"intermediate_steps\"][-1].tool_input\n",
    "    print(f\"{tool_name}.invoke(input={tool_args})\")\n",
    "    # Run tool\n",
    "    out = tool_str_to_func[tool_name].invoke(input=tool_args)\n",
    "    action_out = AgentAction(\n",
    "        tool=tool_name,\n",
    "        tool_input=tool_args,\n",
    "        log=str(out),\n",
    "    )\n",
    "    return {\"intermediate_steps\": [action_out]}\n",
    "##def router(state) -> Literal[\"call_tool\", \"__end__\", \"continue\"]:\n",
    "##    # This is the router\n",
    "##    messages = state[\"messages\"]\n",
    "##    last_message = messages[-1]\n",
    "##    if last_message.tool_calls:\n",
    "##        # The previous agent is invoking a tool\n",
    "##        return \"call_tool\"\n",
    "##    if \"FINAL ANSWER\" in last_message.content:\n",
    "##        # Any agent decided the work is done\n",
    "##        return \"__end__\"\n",
    "##    return \"continue\""
   ]
  },
  {
   "cell_type": "markdown",
   "metadata": {},
   "source": [
    "# Hold this for future development...."
   ]
  },
  {
   "cell_type": "code",
   "execution_count": 17,
   "metadata": {},
   "outputs": [],
   "source": [
    "import functools\n",
    "\n",
    "from langchain_core.messages import AIMessage\n",
    "\n",
    "# Helper function to create a node for a given agent\n",
    "def agent_node(state, agent, name):\n",
    "    result = agent.invoke(state)\n",
    "    # We convert the agent output into a format that is suitable to append to the global state\n",
    "    if isinstance(result, ToolMessage):\n",
    "        pass\n",
    "    else:\n",
    "        result = AIMessage(**result.dict(exclude={\"type\", \"name\"}), name=name)\n",
    "    return {\n",
    "        \"messages\": [result],\n",
    "        # Since we have a strict workflow, we can\n",
    "        # track the sender so we know who to pass to next.\n",
    "        \"sender\": name,\n",
    "    }\n",
    "\n",
    "# Specifying which model consumed by the agents\n",
    "llm = ChatGroq(model=\"mixtral-8x7b-32768\")\n",
    "\n",
    "# Research agent and node\n",
    "research_agent = create_agent(\n",
    "    llm,\n",
    "    tools,\n",
    "    system_message=\"You should provide accurate data for the summary_agent to use.\",\n",
    ")\n",
    "research_node = functools.partial(agent_node, agent=research_agent, name=\"Researcher\")\n",
    "\n",
    "# summary_agent and node\n",
    "summary_agent = create_agent(\n",
    "    llm,\n",
    "    tools,\n",
    "    system_message=\"Any charts you display will be visible by the user.\",\n",
    ")\n",
    "summary_node = functools.partial(agent_node, agent=summary_agent, name=\"summary_agent\")"
   ]
  },
  {
   "cell_type": "code",
   "execution_count": 42,
   "metadata": {},
   "outputs": [],
   "source": [
    "from langgraph.prebuilt import ToolNode\n",
    "\n",
    "tools = [search, final_answer]\n",
    "tool_node = ToolNode(tools)"
   ]
  },
  {
   "cell_type": "markdown",
   "metadata": {},
   "source": [
    "## Define Edge Logic ##\n",
    "-- We can define some of the edge logic that is needed to decide what to do based on results of the agents"
   ]
  },
  {
   "cell_type": "markdown",
   "metadata": {},
   "source": [
    "## Defining the actual graph with connections/nodes ##\n"
   ]
  },
  {
   "cell_type": "code",
   "execution_count": 57,
   "metadata": {},
   "outputs": [],
   "source": [
    "workflow = StateGraph(AgentState) # think of this as the glue that holds everything together\n",
    "\n",
    "workflow.add_node(\"Researcher\", research_decision)\n",
    "workflow.add_node(\"search\", tool_node)\n",
    "workflow.add_node(\"call_tool\", run_tool)\n",
    "workflow.add_node(\"final_answer\", run_tool)\n",
    "\n",
    "# Specify the entry point\n",
    "workflow.set_entry_point(\"Researcher\")\n",
    "\n",
    "workflow.add_conditional_edges(\n",
    "    source=\"Researcher\", # Where in the graph to start\n",
    "    path=router, # Function to determine where to go next\n",
    ")\n",
    "\n",
    "# Create edges from each tool back to the researcher\n",
    "for tool_obj in tools:\n",
    "    if tool_obj.name != \"final_answer\":\n",
    "        workflow.add_edge(tool_obj.name, \"Researcher\")\n",
    "\n",
    "# If anything goes to final answer, it must then move to end\n",
    "workflow.add_edge(\"final_answer\", END)\n",
    "\n",
    "graph = workflow.compile()"
   ]
  },
  {
   "cell_type": "code",
   "execution_count": 58,
   "metadata": {},
   "outputs": [
    {
     "data": {
      "image/jpeg": "[encoded data removed]",
      "text/plain": [
       "<IPython.core.display.Image object>"
      ]
     },
     "metadata": {},
     "output_type": "display_data"
    }
   ],
   "source": [
    "from IPython.display import Image, display\n",
    "\n",
    "display(Image(graph.get_graph().draw_mermaid_png()))"
   ]
  },
  {
   "cell_type": "code",
   "execution_count": null,
   "metadata": {},
   "outputs": [],
   "source": [
    "events = graph.stream(\n",
    "    {\n",
    "        \"messages\": [\n",
    "            HumanMessage(\n",
    "                content=\"Generate the latest research on Generative AI Security, and summarize a report on the latest research in the field.\"\n",
    "            )\n",
    "        ],\n",
    "    },\n",
    "    # Maximum number of steps to take in the graph\n",
    "    {\"recursion_limit\": 15},\n",
    ")\n",
    "for s in events:\n",
    "    print(s)\n",
    "    print(\"----\")"
   ]
  },
  {
   "cell_type": "markdown",
   "metadata": {},
   "source": [
    "## Building into a readable report - adapted ##"
   ]
  },
  {
   "cell_type": "code",
   "execution_count": null,
   "metadata": {},
   "outputs": [],
   "source": [
    "out = graph.invoke({\n",
    "    \"input\": \"Tell me about the latest research from Arxiv on Generative AI Security\",\n",
    "    \"chat_history\": [],\n",
    "})"
   ]
  },
  {
   "cell_type": "code",
   "execution_count": 54,
   "metadata": {},
   "outputs": [],
   "source": [
    "def build_report(output: dict):\n",
    "    research_steps = output[\"research_steps\"]\n",
    "    if type(research_steps) is list:\n",
    "        research_steps = \"\\n\".join([f\"- {r}\" for r in research_steps])\n",
    "    sources = output[\"sources\"]\n",
    "    if type(sources) is list:\n",
    "        sources = \"\\n\".join([f\"- {s}\" for s in sources])\n",
    "    return f\"\"\"\n",
    "INTRODUCTION\n",
    "------------\n",
    "{output[\"introduction\"]}\n",
    "\n",
    "RESEARCH STEPS\n",
    "--------------\n",
    "{research_steps}\n",
    "\n",
    "REPORT\n",
    "------\n",
    "{output[\"main_body\"]}\n",
    "\n",
    "CONCLUSION\n",
    "----------\n",
    "{output[\"conclusion\"]}\n",
    "\n",
    "SOURCES\n",
    "-------\n",
    "{sources}\n",
    "\"\"\""
   ]
  },
  {
   "cell_type": "code",
   "execution_count": 55,
   "metadata": {},
   "outputs": [
    {
     "name": "stdout",
     "output_type": "stream",
     "text": [
      "\n",
      "INTRODUCTION\n",
      "------------\n",
      "Generative AI Security is a rapidly evolving field with many experts and organizations conducting research.\n",
      "\n",
      "RESEARCH STEPS\n",
      "--------------\n",
      "Researchers are exploring ways to detect and prevent deepfakes, understanding the ethical implications of generative AI, and analyzing the impact on jobs and society.\n",
      "\n",
      "REPORT\n",
      "------\n",
      "Organizations like the AI Foundation, Partnership on AI, and the Alan Turing Institute are working on these issues, along with numerous universities and companies. While I don't have real-time access to specific research studies, it is clear that this is an area of great interest and concern in the AI community.\n",
      "\n",
      "CONCLUSION\n",
      "----------\n",
      "In summary, Generative AI Security is a vital and rapidly developing field, with numerous researchers working hard to ensure the safe and ethical use of AI technologies.\n",
      "\n",
      "SOURCES\n",
      "-------\n",
      "AI Foundation, Partnership on AI, Alan Turing Institute, various universities and companies\n",
      "\n"
     ]
    }
   ],
   "source": [
    "print(build_report(\n",
    "    output=out[\"intermediate_steps\"][-1].tool_input\n",
    "))"
   ]
  },
  {
   "cell_type": "code",
   "execution_count": 10,
   "metadata": {},
   "outputs": [
    {
     "name": "stdout",
     "output_type": "stream",
     "text": [
      "================================\u001b[1m Human Message \u001b[0m=================================\n",
      "\n",
      "What is the latest resarch on AI? Provide me with summaries of the latest research in 2024?\n",
      "==================================\u001b[1m Ai Message \u001b[0m==================================\n",
      "Tool Calls:\n",
      "  search (call_jyb7)\n",
      " Call ID: call_jyb7\n",
      "  Args:\n",
      "    query: latest research on AI in 2024\n",
      "=================================\u001b[1m Tool Message \u001b[0m=================================\n",
      "Name: search\n",
      "\n",
      "[{\"title\": \"Thousands of AI Authors on the Future of AI\", \"link\": \"http://arxiv.org/abs/2401.02843\", \"snippet\": \"View PDF\\nHTML (experimental)  \\nAbstract:In the largest survey of its kind, 2,778 researchers who had published in top-tier artificial intelligence (AI) venues gave predictions on the pace of AI progress and the nature and impacts of advanced AI systems The aggregate forecasts give at least a 50% chance of AI systems achieving several milestones by 2028, including autonomously constructing a payment processing site from scratch, creating a song indistinguishable from a new song by a popular musician, and autonomously downloading and fine-tuning a large language model. If science continues undisrupted, the chance of unaided machines outperforming humans in every possible task was estimated at 10% by 2027, and 50% by 2047. The latter estimate is 13 years earlier than that reached in a similar survey we conducted only one year earlier [Grace et al., 2022]. However, the chance of all human occupations becoming fully automatable was forecast to reach 10% by 2037, and 50% as late as 2116 (compared to 2164 in the 2022 survey).\\nMost respondents expressed substantial uncertainty about the long-term value of AI progress: While 68.3% thought good outcomes from superhuman AI are more likely than bad, of these net optimists 48% gave at least a 5% chance of extremely bad outcomes such as human extinction, and 59% of net pessimists gave 5% or more to extremely good outcomes. Between 38% and 51% of respondents gave at least a 10% chance to advanced AI leading to outcomes as bad as human extinction. More than half suggested that \\\"substantial\\\" or \\\"extreme\\\" concern is warranted about six different AI-related scenarios, including misinformation, authoritarian control, and inequality. There was disagreement about whether faster or slower AI progress would be better for the future of humanity. However, there was broad agreement that research aimed at minimizing potential risks from AI systems ought to be prioritized more.\\n \\nSubmission history  From: Julia Fabienne Sandk\\u00fchler [view email]   [v1] \\nFri, 5 Jan 2024 14:53:09 UTC (4,906 KB)\\n[v2]\\nTue, 30 Apr 2024 18:15:42 UTC (4,907 KB)\", \"score\": 0.19148412346839905, \"publish\": \"2024-01-05T00:00:00.000Z\"}, {\"title\": \"Artificial Intelligence Index Report 2024\", \"link\": \"https://arxiv.org/abs/2405.19522\", \"snippet\": \"Authors: Nestor Maslej, Loredana Fattorini, Raymond Perrault, Vanessa Parli, Anka Reuel, Erik Brynjolfsson, John Etchemendy, Katrina Ligett, Terah Lyons, James Manyika, Juan Carlos Niebles, Yoav Shoham, Russell Wald, Jack Clark  \\n View PDF  \\nAbstract:The 2024 Index is our most comprehensive to date and arrives at an important moment when AI's influence on society has never been more pronounced. This year, we have broadened our scope to more extensively cover essential trends such as technical advancements in AI, public perceptions of the technology, and the geopolitical dynamics surrounding its development. Featuring more original data than ever before, this edition introduces new estimates on AI training costs, detailed analyses of the responsible AI landscape, and an entirely new chapter dedicated to AI's impact on science and medicine. The AI Index report tracks, collates, distills, and visualizes data related to artificial intelligence (AI). Our mission is to provide unbiased, rigorously vetted, broadly sourced data in order for policymakers, researchers, executives, journalists, and the general public to develop a more thorough and nuanced understanding of the complex field of AI. The AI Index is recognized globally as one of the most credible and authoritative sources for data and insights on artificial intelligence. Previous editions have been cited in major newspapers, including the The New York Times, Bloomberg, and The Guardian, have amassed hundreds of academic citations, and been referenced by high-level policymakers in the United States, the United Kingdom, and the European Union, among other places. This year's edition surpasses all previous ones in size, scale, and scope, reflecting the growing significance that AI is coming to hold in all of our lives.\\n \\nSubmission history  From: Nestor Maslej [view email]  [v1]\\nWed, 29 May 2024 20:59:57 UTC (43,091 KB)\", \"score\": 0.18353086709976196, \"publish\": \"2024-05-29T00:00:00.000Z\"}, {\"title\": \"What Do People Think about Sentient AI?\", \"link\": \"https://arxiv.org/abs/2407.08867\", \"snippet\": \"View PDF  \\nAbstract:With rapid advances in machine learning, many people in the field have been discussing the rise of digital minds and the possibility of artificial sentience. Future developments in AI capabilities and safety will depend on public opinion and human-AI interaction. To begin to fill this research gap, we present the first nationally representative survey data on the topic of sentient AI: initial results from the Artificial Intelligence, Morality, and Sentience (AIMS) survey, a preregistered and longitudinal study of U.S. public opinion that began in 2021. Across one wave of data collection in 2021 and two in 2023 (total N = 3,500), we found mind perception and moral concern for AI well-being in 2021 were higher than predicted and significantly increased in 2023: for example, 71% agree sentient AI deserve to be treated with respect, and 38% support legal rights. People have become more threatened by AI, and there is widespread opposition to new technologies: 63% support a ban on smarter-than-human AI, and 69% support a ban on sentient AI. Expected timelines are surprisingly short and shortening with a median forecast of sentient AI in only five years and artificial general intelligence in only two years. We argue that, whether or not AIs become sentient, the discussion itself may overhaul human-computer interaction and shape the future trajectory of AI technologies, including existential risks and opportunities.\\n \\nSubmission history  From: Jacy Reese Anthis [view email]   [v1] \\nThu, 11 Jul 2024 21:04:39 UTC (6,711 KB)\\n[v2]\\nMon, 15 Jul 2024 09:39:44 UTC (6,153 KB)\", \"score\": 0.17501339316368103, \"publish\": \"2024-07-11T00:00:00.000Z\"}, {\"title\": \"Passed the Turing Test: Living in Turing Futures\", \"link\": \"https://arxiv.org/abs/2409.07656\", \"snippet\": \"View PDF\\nHTML (experimental)  \\nAbstract:The world has seen the emergence of machines based on pretrained models, transformers, also known as generative artificial intelligences for their ability to produce various types of content, including text, images, audio, and synthetic data. Without resorting to preprogramming or special tricks, their intelligence grows as they learn from experience, and to ordinary people, they can appear human-like in conversation. This means that they can pass the Turing test, and that we are now living in one of many possible Turing futures where machines can pass for what they are not. However, the learning machines that Turing imagined would pass his imitation tests were machines inspired by the natural development of the low-energy human cortex. They would be raised like human children and naturally learn the ability to deceive an observer. These ``child machines,'' Turing hoped, would be powerful enough to have an impact on society and nature.\\n \\nSubmission history  From: Bernardo Gon\\u00e7alves [view email]  [v1]\\nWed, 11 Sep 2024 22:56:30 UTC (1,655 KB)\", \"score\": 0.16986165940761566, \"publish\": \"2024-09-11T00:00:00.000Z\"}, {\"title\": \"Mapping Technical Safety Research at AI Companies: A literature review and incentives analysis\", \"link\": \"https://arxiv.org/abs/2409.07878\", \"snippet\": \"View PDF  \\nAbstract:As artificial intelligence (AI) systems become more advanced, concerns about large-scale risks from misuse or accidents have grown. This report analyzes the technical research into safe AI development being conducted by three leading AI companies: Anthropic, Google DeepMind, and OpenAI.\\nWe define safe AI development as developing AI systems that are unlikely to pose large-scale misuse or accident risks. This encompasses a range of technical approaches aimed at ensuring AI systems behave as intended and do not cause unintended harm, even as they are made more capable and autonomous.\\nWe analyzed all papers published by the three companies from January 2022 to July 2024 that were relevant to safe AI development, and categorized the 61 included papers into eight safety approaches. Additionally, we noted three categories representing nascent approaches explored by academia and civil society, but not currently represented in any papers by the three companies. Our analysis reveals where corporate attention is concentrated and where potential gaps lie.\\nSome AI research may stay unpublished for good reasons, such as to not inform adversaries about security techniques they would need to overcome to misuse AI systems. Therefore, we also considered the incentives that AI companies have to research each approach. In particular, we considered reputational effects, regulatory burdens, and whether the approaches could make AI systems more useful.\\nWe identified three categories where there are currently no or few papers and where we do not expect AI companies to become more incentivized to pursue this research in the future. These are multi-agent safety, model organisms of misalignment, and safety by design. Our findings provide an indication that these approaches may be slow to progress without funding or efforts from government, civil society, philanthropists, or academia.\\n \\nSubmission history  From: Oliver Guest [view email]  [v1]\\nThu, 12 Sep 2024 09:34:55 UTC (1,076 KB)\", \"score\": 0.1670890748500824, \"publish\": \"2024-09-12T00:00:00.000Z\"}]\n",
      "==================================\u001b[1m Ai Message \u001b[0m==================================\n",
      "\n",
      "The latest research on AI includes a study titled \"Thousands of AI Authors on the Future of AI\" which predicts that AI systems will achieve several milestones by 2\n"
     ]
    }
   ],
   "source": [
    "inputs = {\"messages\": [(\"user\", \"What is the latest resarch on AI? Provide me with summaries of the latest research in 2024?\")]}\n",
    "print_stream(graph.stream(inputs, stream_mode=\"values\"))"
   ]
  },
  {
   "cell_type": "code",
   "execution_count": 12,
   "metadata": {},
   "outputs": [
    {
     "name": "stdout",
     "output_type": "stream",
     "text": [
      "================================\u001b[1m Human Message \u001b[0m=================================\n",
      "\n",
      "What is RSUs in stock options for employees?\n",
      "==================================\u001b[1m Ai Message \u001b[0m==================================\n",
      "Tool Calls:\n",
      "  search (call_n8cd)\n",
      " Call ID: call_n8cd\n",
      "  Args:\n",
      "    query: RSUs in stock options for employees\n",
      "=================================\u001b[1m Tool Message \u001b[0m=================================\n",
      "Name: search\n",
      "\n",
      "[{\"title\": \"Construction and Hedging of Equity Index Options Portfolios\", \"link\": \"https://arxiv.org/abs/2407.13908\", \"snippet\": \"View PDF\\nHTML (experimental)  \\nAbstract:This research presents a comprehensive evaluation of systematic index option-writing strategies, focusing on S&amp;P500 index options. We compare the performance of hedging strategies using the Black-Scholes-Merton (BSM) model and the Variance-Gamma (VG) model, emphasizing varying moneyness levels and different sizing methods based on delta and the VIX Index. The study employs 1-minute data of S&amp;P500 index options and index quotes spanning from 2018 to 2023. The analysis benchmarks hedged strategies against buy-and-hold and naked option-writing strategies, with a focus on risk-adjusted performance metrics including transaction costs. Portfolio delta approximations are derived using implied volatility for the BSM model and market-calibrated parameters for the VG model. Key findings reveal that systematic option-writing strategies can potentially yield superior returns compared to buy-and-hold benchmarks. The BSM model generally provided better hedging outcomes than the VG model, although the VG model showed profitability in certain naked strategies as a tool for position sizing. In terms of rehedging frequency, we found that intraday hedging in 130-minute intervals provided both reliable protection against adverse market movements and a satisfactory returns profile.\\n \\nSubmission history  From: Robert \\u015alepaczuk Ph.D. [view email]  [v1]\\nThu, 18 Jul 2024 21:49:04 UTC (1,850 KB)\", \"score\": 0.10094022005796432, \"publish\": \"2024-07-18T00:00:00.000Z\"}, {\"title\": \"Google\", \"link\": \"https://www.google.com/?hl=ru\", \"snippet\": \"\\u0421\\u0435\\u0440\\u0432\\u0438\\u0441\\u044b Google \\u0434\\u043e\\u0441\\u0442\\u0443\\u043f\\u043d\\u044b \\u043d\\u0430 \\u044d\\u0442\\u0438\\u0445 \\u044f\\u0437\\u044b\\u043a\\u0430\\u0445: English\", \"score\": 0.09685390442609787, \"publish\": \"2024-02-02T00:00:00.000Z\"}, {\"title\": \"High-Frequency Options Trading | With Portfolio Optimization\", \"link\": \"https://arxiv.org/abs/2408.08866\", \"snippet\": \"View PDF\\nHTML (experimental)  \\nAbstract:This paper explores the effectiveness of high-frequency options trading strategies enhanced by advanced portfolio optimization techniques, investigating their ability to consistently generate positive returns compared to traditional long or short positions on options. Utilizing SPY options data recorded in five-minute intervals over a one-month period, we calculate key metrics such as Option Greeks and implied volatility, applying the Binomial Tree model for American options pricing and the Newton-Raphson algorithm for implied volatility calculation. Investment universes are constructed based on criteria like implied volatility and Greeks, followed by the application of various portfolio optimization models, including Standard Mean-Variance and Robust Methods. Our research finds that while basic long-short strategies centered on implied volatility and Greeks generally underperform, more sophisticated strategies incorporating advanced Greeks, such as Vega and Rho, along with dynamic portfolio optimization, show potential in effectively navigating the complexities of the options market. The study highlights the importance of adaptability and responsiveness in dynamic portfolio strategies within the high-frequency trading environment, particularly under volatile market conditions. Future research could refine strategy parameters and explore less frequently traded options, offering new insights into high-frequency options trading and portfolio management.\\n \\nSubmission history  From: Siddharth Bhatia [view email]  [v1]\\nFri, 16 Aug 2024 17:49:21 UTC (1,336 KB)\", \"score\": 0.09682480990886688, \"publish\": \"2024-08-16T00:00:00.000Z\"}, {\"title\": \"The Riccati Tontine: How to Satisfy Regulators on Average\", \"link\": \"https://arxiv.org/abs/2402.14555\", \"snippet\": \"View PDF\\nHTML (experimental)  \\nAbstract:This paper presents a new type of modern accumulation-based tontine, called the Riccati tontine, named after two Italians: mathematician Jacobo Riccati (b. 1676, d. 1754) and financier Lorenzo di Tonti (b. 1602, d. 1684). The Riccati tontine is yet another way of pooling and sharing longevity risk, but is different from competing designs in two key ways. The first is that in the Riccati tontine, the representative investor is expected -- although not guaranteed -- to receive their money back if they die, or when the tontine lapses. The second is that the underlying funds within the tontine are deliberately {\\\\em not} indexed to the stock market. Instead, the risky assets or underlying investments are selected so that return shocks are negatively correlated with stochastic mortality, which will maximize the expected payout to survivors. This means that during a pandemic, for example, the Riccati tontine fund's performance will be impaired relative to the market index, but will not be expected to lose money for participants. In addition to describing and explaining the rationale for this non-traditional asset allocation, the paper provides a mathematical proof that the recovery schedule that generates this financial outcome satisfies a first-order ODE that is quadratic in the unknown function, which (yes) is known as a Riccati equation.\\n \\nSubmission history  From: Thomas Salisbury [view email]  [v1]\\nThu, 22 Feb 2024 13:50:39 UTC (348 KB)\", \"score\": 0.09412325918674469, \"publish\": \"2024-02-22T00:00:00.000Z\"}, {\"title\": \"Semi-analytical pricing of options written on SOFR futures\", \"link\": \"https://arxiv.org/abs/2409.04903\", \"snippet\": \"View PDF  \\nAbstract:In this paper, we propose a semi-analytical approach to pricing options on SOFR futures where the underlying SOFR follows a time-dependent CEV model. By definition, these options change their type at the beginning of the reference period: before this time, this is an American option written on a SOFR forward price as an underlying, and after this point, this is an arithmetic Asian option with an American style exercise written on the daily SOFR rates. We develop a new version of the GIT method and solve both problems semi-analytically, obtaining the option price, the exercise boundary, and the option Greeks. This work is intended to address the concern that the transfer from LIBOR to SOFR has resulted in a situation in which the options of the key money market (i.e., futures on the reference rate) are options without any pricing model available. Therefore, the trading in options on 3M SOFR futures currently ends before their reference quarter starts, to eliminate the final metamorphosis into exotic options.\\n \\nSubmission history  From: Andrey Itkin [view email]  [v1]\\nSat, 7 Sep 2024 20:13:44 UTC (1,508 KB)\", \"score\": 0.09185335785150528, \"publish\": \"2024-09-07T00:00:00.000Z\"}]\n",
      "==================================\u001b[1m Ai Message \u001b[0m==================================\n",
      "\n",
      "RSUs, or Restricted Stock Units, are a type of stock-based compensation granted by employers to employees. They represent the right to receive a specified number of company shares at a future date, typically subject to vesting conditions. RSUs differ from stock options in that they do not provide the holder with the option to buy or sell the shares at a specific price; instead, the employee receives the actual shares once the vesting conditions are met. The value of RSUs is tied to the company's stock price at the time of vesting.\n"
     ]
    }
   ],
   "source": [
    "inputs = {\"messages\": [(\"user\", \"What is RSUs in stock options for employees?\")]}\n",
    "print_stream(graph.stream(inputs, stream_mode=\"values\"))"
   ]
  }
 ],
 "metadata": {
  "kernelspec": {
   "display_name": ".venv",
   "language": "python",
   "name": "python3"
  },
  "language_info": {
   "codemirror_mode": {
    "name": "ipython",
    "version": 3
   },
   "file_extension": ".py",
   "mimetype": "text/x-python",
   "name": "python",
   "nbconvert_exporter": "python",
   "pygments_lexer": "ipython3",
   "version": "3.12.7"
  }
 },
 "nbformat": 4,
 "nbformat_minor": 2
}
